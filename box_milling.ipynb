{
 "cells": [
  {
   "cell_type": "code",
   "execution_count": null,
   "metadata": {},
   "outputs": [],
   "source": [
    "import numpy as np\n",
    "import matplotlib.pyplot as plt\n",
    "import torch"
   ]
  },
  {
   "cell_type": "code",
   "execution_count": null,
   "metadata": {},
   "outputs": [],
   "source": [
    "import torch\n",
    "import numpy as np\n",
    "\n",
    "class GridCubeEnv:\n",
    "    def __init__(self, grid_size=8):\n",
    "        self.grid_size = grid_size\n",
    "        self.grid = torch.ones((grid_size, grid_size, grid_size), dtype=torch.float32)\n",
    "        self.agent_position = torch.randint(0, grid_size, (3,), dtype=torch.int32)\n",
    "\n",
    "    def reset(self):\n",
    "        self.grid = torch.ones((self.grid_size, self.grid_size, self.grid_size), dtype=torch.float32)\n",
    "        self.agent_position = torch.randint(0, self.grid_size, (3,), dtype=torch.int32)\n",
    "        self.grid[tuple(self.agent_position)] = 0\n",
    "        return self.grid.clone(), self.agent_position.clone()\n",
    "\n",
    "    def step(self, action):\n",
    "        # Define movement based on action\n",
    "        movement = torch.tensor([\n",
    "            [1, 0, 0],   # forward\n",
    "            [-1, 0, 0],  # back\n",
    "            [0, 1, 0],   # right\n",
    "            [0, -1, 0],  # left\n",
    "            [0, 0, 1],   # up\n",
    "            [0, 0, -1]   # down\n",
    "        ], dtype=torch.int32)\n",
    "\n",
    "        # Calculate new position\n",
    "        new_position = self.agent_position + movement[action]\n",
    "\n",
    "        # Ensure new position is within bounds\n",
    "        if torch.all(new_position >= 0) and torch.all(new_position < self.grid_size):\n",
    "            self.agent_position = new_position\n",
    "\n",
    "        # Mark the cell as visited\n",
    "        self.grid[tuple(self.agent_position)] = 0\n",
    "\n",
    "        # Reward for marking a new cell\n",
    "        reward = 1.0\n",
    "\n",
    "        # Check if the episode is done (all cells visited)\n",
    "        done = torch.all(self.grid == 0).item()\n",
    "\n",
    "        return self.grid.clone(), self.agent_position.clone(), reward, done\n",
    "\n",
    "    def render(self):\n",
    "        print(\"Agent Position:\", self.agent_position)\n",
    "        print(self.grid)\n",
    "\n"
   ]
  }
 ],
 "metadata": {
  "language_info": {
   "name": "python"
  }
 },
 "nbformat": 4,
 "nbformat_minor": 2
}
